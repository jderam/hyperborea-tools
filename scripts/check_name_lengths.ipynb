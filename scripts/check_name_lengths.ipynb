{
 "cells": [
  {
   "cell_type": "code",
   "execution_count": 1,
   "metadata": {},
   "outputs": [],
   "source": [
    "import random\n",
    "from hyperborea3.db import execute_query_one\n",
    "from hyperborea3.namegen import generate_name"
   ]
  },
  {
   "cell_type": "code",
   "execution_count": 2,
   "metadata": {},
   "outputs": [],
   "source": [
    "tables = [\n",
    "    \"t150_common_name_elements\",\n",
    "    \"t152_amazon_female_names\",\n",
    "    \"t153_amazon_male_names\",\n",
    "    \"t155_anglosaxon_female_names\",\n",
    "    \"t156_anglosaxon_male_names\",\n",
    "    \"t157_atlantean_female_names\",\n",
    "    \"t158_atlantean_male_names\",\n",
    "    \"t159_atlantean_clan_names\",\n",
    "    \"t160_carolingian_frankish_female_names\",\n",
    "    \"t161_carolingian_frankish_male_names\",\n",
    "    \"t162_esquimaux_names\",\n",
    "    \"t163_greek_female_names\",\n",
    "    \"t164_greek_male_names\",\n",
    "    \"t165_hyperborean_name_elements\",\n",
    "    \"t167_hyperborean_family_names\",\n",
    "    \"t168_ixian_female_names\",\n",
    "    \"t169_ixian_male_names\",\n",
    "    \"t170_keltic_female_names\",\n",
    "    \"t171_keltic_male_names\",\n",
    "    \"t172_kimmerian_female_names\",\n",
    "    \"t173_kimmerian_male_names\",\n",
    "    \"t174_kimmerian_krimmean_female_names\",\n",
    "    \"t175_kimmerian_krimmean_male_names\",\n",
    "    \"t176_lapp_female_names\",\n",
    "    \"t177_lapp_male_names\",\n",
    "    \"t179_lemurian_family_names\",\n",
    "    \"t180_lemurian_female_names\",\n",
    "    \"t181_lemurian_male_names\",\n",
    "    \"t182_moorish_female_names\",\n",
    "    \"t183_moorish_male_names\",\n",
    "    \"t184_mu_names\",\n",
    "    \"t185_pictish_female_names\",\n",
    "    \"t186_pictish_male_names\",\n",
    "    \"t188_roman_personal_names\",\n",
    "    \"t189_roman_family_names\",\n",
    "    \"t190_roman_cognomen\",\n",
    "    \"t191_tlingit_names\",\n",
    "    \"t192_viking_female_names\",\n",
    "    \"t193_viking_male_names\",\n",
    "    \"t195_yakut_female_names\",\n",
    "    \"t196_yakut_male_names\",\n",
    "    \"t197_epithets\",\n",
    "]"
   ]
  },
  {
   "cell_type": "code",
   "execution_count": 4,
   "metadata": {},
   "outputs": [
    {
     "name": "stdout",
     "output_type": "stream",
     "text": [
      "t150_common_name_elements {'min_length': None, 'max_length': None}\n",
      "t152_amazon_female_names {'min_length': 5, 'max_length': 11}\n",
      "t153_amazon_male_names {'min_length': 4, 'max_length': 11}\n",
      "t155_anglosaxon_female_names {'min_length': 6, 'max_length': 11}\n",
      "t156_anglosaxon_male_names {'min_length': 5, 'max_length': 10}\n",
      "t157_atlantean_female_names {'min_length': 4, 'max_length': 11}\n",
      "t158_atlantean_male_names {'min_length': 4, 'max_length': 12}\n",
      "t159_atlantean_clan_names {'min_length': 6, 'max_length': 10}\n",
      "t160_carolingian_frankish_female_names {'min_length': 7, 'max_length': 12}\n",
      "t161_carolingian_frankish_male_names {'min_length': 5, 'max_length': 11}\n",
      "t162_esquimaux_names {'min_length': 3, 'max_length': 12}\n",
      "t163_greek_female_names {'min_length': 4, 'max_length': 10}\n",
      "t164_greek_male_names {'min_length': 4, 'max_length': 12}\n",
      "t165_hyperborean_name_elements {'min_length': 3, 'max_length': 3}\n",
      "t167_hyperborean_family_names {'min_length': 4, 'max_length': 5}\n",
      "t168_ixian_female_names {'min_length': 3, 'max_length': 9}\n",
      "t169_ixian_male_names {'min_length': 4, 'max_length': 12}\n",
      "t170_keltic_female_names {'min_length': 3, 'max_length': 9}\n",
      "t171_keltic_male_names {'min_length': 4, 'max_length': 9}\n",
      "t172_kimmerian_female_names {'min_length': 4, 'max_length': 11}\n",
      "t173_kimmerian_male_names {'min_length': 5, 'max_length': 11}\n",
      "t174_kimmerian_krimmean_female_names {'min_length': 4, 'max_length': 11}\n",
      "t175_kimmerian_krimmean_male_names {'min_length': 5, 'max_length': 11}\n",
      "t176_lapp_female_names {'min_length': 3, 'max_length': 9}\n",
      "t177_lapp_male_names {'min_length': 4, 'max_length': 7}\n",
      "t179_lemurian_family_names {'min_length': 2, 'max_length': 10}\n",
      "t180_lemurian_female_names {'min_length': 2, 'max_length': 8}\n",
      "t181_lemurian_male_names {'min_length': 2, 'max_length': 8}\n",
      "t182_moorish_female_names {'min_length': 4, 'max_length': 10}\n",
      "t183_moorish_male_names {'min_length': 4, 'max_length': 9}\n",
      "t184_mu_names {'min_length': 4, 'max_length': 16}\n",
      "t185_pictish_female_names {'min_length': 3, 'max_length': 11}\n",
      "t186_pictish_male_names {'min_length': 6, 'max_length': 14}\n",
      "t188_roman_personal_names {'min_length': None, 'max_length': None}\n",
      "t189_roman_family_names {'min_length': None, 'max_length': None}\n",
      "t190_roman_cognomen {'min_length': None, 'max_length': None}\n",
      "t191_tlingit_names {'min_length': 3, 'max_length': 8}\n",
      "t192_viking_female_names {'min_length': 3, 'max_length': 10}\n",
      "t193_viking_male_names {'min_length': 4, 'max_length': 9}\n",
      "t195_yakut_female_names {'min_length': 3, 'max_length': 10}\n",
      "t196_yakut_male_names {'min_length': 5, 'max_length': 9}\n",
      "t197_epithets {'min_length': 7, 'max_length': 16}\n"
     ]
    }
   ],
   "source": [
    "for t in tables:\n",
    "    sql = f\"\"\"\n",
    "        SELECT MIN(LENGTH(name)) AS min_length,\n",
    "            MAX(LENGTH(name)) AS max_length\n",
    "        FROM {t}\n",
    "    \"\"\"\n",
    "    try:\n",
    "        lengths = execute_query_one(sql)\n",
    "    except:\n",
    "        lengths = {\"min_length\": None, \"max_length\": None}\n",
    "    print(t, lengths)"
   ]
  },
  {
   "cell_type": "code",
   "execution_count": 14,
   "metadata": {},
   "outputs": [
    {
     "name": "stdout",
     "output_type": "stream",
     "text": [
      "t188_roman_personal_names {'min_female_length': 4, 'min_male_length': 5, 'max_female_length': 7, 'max_male_length': 8}\n",
      "t189_roman_family_names {'min_female_length': 5, 'min_male_length': 6, 'max_female_length': 9, 'max_male_length': 10}\n",
      "t190_roman_cognomen {'min_female_length': 3, 'min_male_length': 3, 'max_female_length': 10, 'max_male_length': 10}\n"
     ]
    }
   ],
   "source": [
    "# roman names\n",
    "for t in tables:\n",
    "     if \"roman\" in t:\n",
    "        sql = f\"\"\"\n",
    "            SELECT MIN(LENGTH(female_name)) AS min_female_length,\n",
    "            MIN(LENGTH(male_name)) AS min_male_length,\n",
    "            MAX(LENGTH(female_name)) AS max_female_length,\n",
    "            MAX(LENGTH(male_name)) AS max_male_length\n",
    "            FROM {t}\n",
    "        \"\"\"\n",
    "        try:\n",
    "            lengths = execute_query_one(sql)\n",
    "        except:\n",
    "            lengths = {\"min_length\": None, \"max_length\": None}\n",
    "        print(t, lengths)"
   ]
  },
  {
   "cell_type": "code",
   "execution_count": 5,
   "metadata": {},
   "outputs": [
    {
     "name": "stdout",
     "output_type": "stream",
     "text": [
      "t150_common_name_elements {'die_size': 100}\n",
      "t152_amazon_female_names {'die_size': 50}\n",
      "t153_amazon_male_names {'die_size': 20}\n",
      "t155_anglosaxon_female_names {'die_size': 40}\n",
      "t156_anglosaxon_male_names {'die_size': 40}\n",
      "t157_atlantean_female_names {'die_size': 40}\n",
      "t158_atlantean_male_names {'die_size': 60}\n",
      "t159_atlantean_clan_names {'die_size': 12}\n",
      "t160_carolingian_frankish_female_names {'die_size': 25}\n",
      "t161_carolingian_frankish_male_names {'die_size': 50}\n",
      "t162_esquimaux_names {'die_size': 50}\n",
      "t163_greek_female_names {'die_size': 50}\n",
      "t164_greek_male_names {'die_size': 50}\n",
      "t165_hyperborean_name_elements {'die_size': 60}\n",
      "t167_hyperborean_family_names {'die_size': 16}\n",
      "t168_ixian_female_names {'die_size': 32}\n",
      "t169_ixian_male_names {'die_size': 50}\n",
      "t170_keltic_female_names {'die_size': 50}\n",
      "t171_keltic_male_names {'die_size': 50}\n",
      "t172_kimmerian_female_names {'die_size': 40}\n",
      "t173_kimmerian_male_names {'die_size': 40}\n",
      "t174_kimmerian_krimmean_female_names {'die_size': 20}\n",
      "t175_kimmerian_krimmean_male_names {'die_size': 20}\n",
      "t176_lapp_female_names {'die_size': 20}\n",
      "t177_lapp_male_names {'die_size': 20}\n",
      "t179_lemurian_family_names {'die_size': 60}\n",
      "t180_lemurian_female_names {'die_size': 80}\n",
      "t181_lemurian_male_names {'die_size': 80}\n",
      "t182_moorish_female_names {'die_size': 25}\n",
      "t183_moorish_male_names {'die_size': 30}\n",
      "t184_mu_names {'die_size': 60}\n",
      "t185_pictish_female_names {'die_size': 20}\n",
      "t186_pictish_male_names {'die_size': 40}\n",
      "t188_roman_personal_names {'die_size': 25}\n",
      "t189_roman_family_names {'die_size': 25}\n",
      "t190_roman_cognomen {'die_size': 50}\n",
      "t191_tlingit_names {'die_size': 40}\n",
      "t192_viking_female_names {'die_size': 100}\n",
      "t193_viking_male_names {'die_size': 100}\n",
      "t195_yakut_female_names {'die_size': 12}\n",
      "t196_yakut_male_names {'die_size': 12}\n",
      "t197_epithets {'die_size': 36}\n"
     ]
    }
   ],
   "source": [
    "for t in tables:\n",
    "    sql = f\"\"\"\n",
    "        SELECT MAX(id) AS die_size\n",
    "        FROM {t}\n",
    "    \"\"\"\n",
    "    die_size = execute_query_one(sql)\n",
    "    print(t, die_size)"
   ]
  },
  {
   "cell_type": "code",
   "execution_count": 12,
   "metadata": {},
   "outputs": [
    {
     "data": {
      "text/plain": [
       "0.049831"
      ]
     },
     "execution_count": 12,
     "metadata": {},
     "output_type": "execute_result"
    }
   ],
   "source": [
    "results = [(random.random() < 0.05) for _ in range(1000000)]\n",
    "avg = sum(results) / len(results)\n",
    "avg"
   ]
  },
  {
   "cell_type": "code",
   "execution_count": null,
   "metadata": {},
   "outputs": [],
   "source": []
  },
  {
   "attachments": {},
   "cell_type": "markdown",
   "metadata": {},
   "source": [
    "Try to figure out longest possible name"
   ]
  },
  {
   "cell_type": "code",
   "execution_count": 3,
   "metadata": {},
   "outputs": [],
   "source": [
    "names = set([generate_name(0, \"Any\") for _ in range(10000)])"
   ]
  },
  {
   "cell_type": "code",
   "execution_count": 4,
   "metadata": {},
   "outputs": [
    {
     "data": {
      "text/plain": [
       "6351"
      ]
     },
     "execution_count": 4,
     "metadata": {},
     "output_type": "execute_result"
    }
   ],
   "source": [
    "len(names)"
   ]
  },
  {
   "cell_type": "code",
   "execution_count": 5,
   "metadata": {},
   "outputs": [],
   "source": [
    "names = set([generate_name(0, \"Any\") for _ in range(10000)])"
   ]
  },
  {
   "cell_type": "code",
   "execution_count": 6,
   "metadata": {},
   "outputs": [
    {
     "data": {
      "text/plain": [
       "6451"
      ]
     },
     "execution_count": 6,
     "metadata": {},
     "output_type": "execute_result"
    }
   ],
   "source": [
    "len(names)"
   ]
  },
  {
   "cell_type": "code",
   "execution_count": 7,
   "metadata": {},
   "outputs": [],
   "source": [
    "names = set([generate_name(0, \"Any\") for _ in range(50000)])"
   ]
  },
  {
   "cell_type": "code",
   "execution_count": 8,
   "metadata": {},
   "outputs": [
    {
     "data": {
      "text/plain": [
       "25459"
      ]
     },
     "execution_count": 8,
     "metadata": {},
     "output_type": "execute_result"
    }
   ],
   "source": [
    "len(names)"
   ]
  },
  {
   "cell_type": "code",
   "execution_count": 9,
   "metadata": {},
   "outputs": [
    {
     "data": {
      "text/plain": [
       "33"
      ]
     },
     "execution_count": 9,
     "metadata": {},
     "output_type": "execute_result"
    }
   ],
   "source": [
    "max([len(x) for x in names])"
   ]
  },
  {
   "cell_type": "code",
   "execution_count": 10,
   "metadata": {},
   "outputs": [
    {
     "data": {
      "text/plain": [
       "['Dubnovellaunos nepos Cingetorigis']"
      ]
     },
     "execution_count": 10,
     "metadata": {},
     "output_type": "execute_result"
    }
   ],
   "source": [
    "[x for x in names if len(x) == 33]"
   ]
  },
  {
   "cell_type": "code",
   "execution_count": 11,
   "metadata": {},
   "outputs": [],
   "source": [
    "names = set([generate_name(0, \"Any\") for _ in range(1_000_000)])"
   ]
  },
  {
   "cell_type": "code",
   "execution_count": 12,
   "metadata": {},
   "outputs": [
    {
     "data": {
      "text/plain": [
       "216674"
      ]
     },
     "execution_count": 12,
     "metadata": {},
     "output_type": "execute_result"
    }
   ],
   "source": [
    "len(names)"
   ]
  },
  {
   "cell_type": "code",
   "execution_count": 13,
   "metadata": {},
   "outputs": [
    {
     "data": {
      "text/plain": [
       "34"
      ]
     },
     "execution_count": 13,
     "metadata": {},
     "output_type": "execute_result"
    }
   ],
   "source": [
    "max([len(x) for x in names])"
   ]
  },
  {
   "cell_type": "code",
   "execution_count": 14,
   "metadata": {},
   "outputs": [
    {
     "data": {
      "text/plain": [
       "['Dubnovellaunos nepos Dubnovellauni']"
      ]
     },
     "execution_count": 14,
     "metadata": {},
     "output_type": "execute_result"
    }
   ],
   "source": [
    "[x for x in names if len(x) == 34]"
   ]
  },
  {
   "cell_type": "code",
   "execution_count": 2,
   "metadata": {},
   "outputs": [],
   "source": [
    "def find_longest_name(runs: int):\n",
    "    names = set([generate_name(0, \"Any\") for _ in range(runs)])\n",
    "    unique_names = len(names)\n",
    "    longest_len = max([len(x) for x in names])\n",
    "    longest_names = [x for x in names if len(x) == longest_len]\n",
    "    return {\n",
    "        \"runs\": runs,\n",
    "        \"unique_names\": unique_names,\n",
    "        \"longest_len\": longest_len,\n",
    "        \"longest_names\": longest_names,\n",
    "    }"
   ]
  },
  {
   "cell_type": "code",
   "execution_count": 16,
   "metadata": {},
   "outputs": [
    {
     "data": {
      "text/plain": [
       "{'runs': 2000000,\n",
       " 'unique_names': 355731,\n",
       " 'longest_len': 34,\n",
       " 'longest_names': ['Dubnovellaunos nepos Dubnovellauni']}"
      ]
     },
     "execution_count": 16,
     "metadata": {},
     "output_type": "execute_result"
    }
   ],
   "source": [
    "find_longest_name(2_000_000)"
   ]
  },
  {
   "cell_type": "code",
   "execution_count": 17,
   "metadata": {},
   "outputs": [
    {
     "data": {
      "text/plain": [
       "{'runs': 5000000,\n",
       " 'unique_names': 703263,\n",
       " 'longest_len': 34,\n",
       " 'longest_names': ['Dubnovellaunos nepos Dubnovellauni']}"
      ]
     },
     "execution_count": 17,
     "metadata": {},
     "output_type": "execute_result"
    }
   ],
   "source": [
    "find_longest_name(5_000_000)"
   ]
  },
  {
   "attachments": {},
   "cell_type": "markdown",
   "metadata": {},
   "source": [
    "```\n",
    "runs: 10,000,000\n",
    "platform: windows\n",
    "python: 3.10\n",
    "time: 291m52s\n",
    "```"
   ]
  },
  {
   "cell_type": "code",
   "execution_count": 4,
   "metadata": {},
   "outputs": [
    {
     "data": {
      "text/plain": [
       "{'runs': 10000000,\n",
       " 'unique_names': 1200110,\n",
       " 'longest_len': 34,\n",
       " 'longest_names': ['Dubnovellaunos nepos Dubnovellauni']}"
      ]
     },
     "execution_count": 4,
     "metadata": {},
     "output_type": "execute_result"
    }
   ],
   "source": [
    "find_longest_name(10_000_000)"
   ]
  },
  {
   "attachments": {},
   "cell_type": "markdown",
   "metadata": {},
   "source": [
    "```\n",
    "runs: 10,000,000\n",
    "platform: windows\n",
    "python: 3.11\n",
    "time: \n",
    "```"
   ]
  },
  {
   "cell_type": "code",
   "execution_count": 3,
   "metadata": {},
   "outputs": [
    {
     "data": {
      "text/plain": [
       "{'runs': 10000000,\n",
       " 'unique_names': 1199665,\n",
       " 'longest_len': 34,\n",
       " 'longest_names': ['Dubnovellaunos nepos Dubnovellauni']}"
      ]
     },
     "execution_count": 3,
     "metadata": {},
     "output_type": "execute_result"
    }
   ],
   "source": [
    "find_longest_name(10_000_000)"
   ]
  },
  {
   "cell_type": "code",
   "execution_count": null,
   "metadata": {},
   "outputs": [],
   "source": []
  }
 ],
 "metadata": {
  "kernelspec": {
   "display_name": "hyperborea3-py311",
   "language": "python",
   "name": "python3"
  },
  "language_info": {
   "codemirror_mode": {
    "name": "ipython",
    "version": 3
   },
   "file_extension": ".py",
   "mimetype": "text/x-python",
   "name": "python",
   "nbconvert_exporter": "python",
   "pygments_lexer": "ipython3",
   "version": "3.11.1 (main, Jan 21 2023, 18:59:12) [GCC 11.3.0]"
  },
  "orig_nbformat": 4,
  "vscode": {
   "interpreter": {
    "hash": "a394b639ce9ae663905fe33f91779fca6bc6d56ee52fd3db9d6aa8ae01f92a00"
   }
  }
 },
 "nbformat": 4,
 "nbformat_minor": 2
}
