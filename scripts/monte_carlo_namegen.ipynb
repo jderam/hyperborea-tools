{
 "cells": [
  {
   "cell_type": "code",
   "execution_count": 11,
   "metadata": {},
   "outputs": [],
   "source": [
    "from hyperborea3 import namegen, valid_data"
   ]
  },
  {
   "cell_type": "code",
   "execution_count": 12,
   "metadata": {},
   "outputs": [
    {
     "data": {
      "text/plain": [
       "{1: 'Common',\n",
       " 2: 'Amazon',\n",
       " 3: 'Atlantean',\n",
       " 4: 'Esquimaux',\n",
       " 5: 'Hyperborean',\n",
       " 6: 'Ixian',\n",
       " 7: 'Kelt',\n",
       " 8: 'Kimmerian',\n",
       " 9: 'Kimmeri-Kelt',\n",
       " 10: 'Pict',\n",
       " 11: 'Pict (Half-Blood)',\n",
       " 12: 'Viking',\n",
       " 13: 'Anglo-Saxon',\n",
       " 14: 'Carolingian Frank',\n",
       " 15: 'Esquimaux-Ixian',\n",
       " 16: 'Greek',\n",
       " 17: 'Lapp',\n",
       " 18: 'Lemurian',\n",
       " 19: 'Moor',\n",
       " 20: 'Mu',\n",
       " 21: 'Oon',\n",
       " 22: 'Roman',\n",
       " 23: 'Tlingit',\n",
       " 24: 'Yakut'}"
      ]
     },
     "execution_count": 12,
     "metadata": {},
     "output_type": "execute_result"
    }
   ],
   "source": [
    "valid_data.VALID_RACES_BY_ID"
   ]
  },
  {
   "cell_type": "code",
   "execution_count": 13,
   "metadata": {},
   "outputs": [],
   "source": [
    "unique_names = set()"
   ]
  },
  {
   "cell_type": "code",
   "execution_count": 21,
   "metadata": {},
   "outputs": [],
   "source": [
    "for _ in range(1_000_000_000):\n",
    "    unique_names.add(namegen.generate_name(race_id=0, gender=\"random\"))"
   ]
  },
  {
   "cell_type": "code",
   "execution_count": 22,
   "metadata": {},
   "outputs": [
    {
     "data": {
      "text/plain": [
       "71057252"
      ]
     },
     "execution_count": 22,
     "metadata": {},
     "output_type": "execute_result"
    }
   ],
   "source": [
    "len(unique_names)"
   ]
  },
  {
   "cell_type": "code",
   "execution_count": 23,
   "metadata": {},
   "outputs": [
    {
     "data": {
      "text/plain": [
       "34"
      ]
     },
     "execution_count": 23,
     "metadata": {},
     "output_type": "execute_result"
    }
   ],
   "source": [
    "max([len(x) for x in unique_names])"
   ]
  },
  {
   "cell_type": "code",
   "execution_count": 24,
   "metadata": {},
   "outputs": [
    {
     "data": {
      "text/plain": [
       "['Dubnovellaunos nepos Dubnovellauni']"
      ]
     },
     "execution_count": 24,
     "metadata": {},
     "output_type": "execute_result"
    }
   ],
   "source": [
    "[x for x in unique_names if len(x) >= 34]"
   ]
  },
  {
   "cell_type": "code",
   "execution_count": null,
   "metadata": {},
   "outputs": [],
   "source": []
  }
 ],
 "metadata": {
  "kernelspec": {
   "display_name": "hyperborea3-venv",
   "language": "python",
   "name": "python3"
  },
  "language_info": {
   "codemirror_mode": {
    "name": "ipython",
    "version": 3
   },
   "file_extension": ".py",
   "mimetype": "text/x-python",
   "name": "python",
   "nbconvert_exporter": "python",
   "pygments_lexer": "ipython3",
   "version": "3.11.2"
  },
  "orig_nbformat": 4,
  "vscode": {
   "interpreter": {
    "hash": "38b3f5873498d40106759b60c1a36ee30e4e319e53a2484527473a6651e81d98"
   }
  }
 },
 "nbformat": 4,
 "nbformat_minor": 2
}
