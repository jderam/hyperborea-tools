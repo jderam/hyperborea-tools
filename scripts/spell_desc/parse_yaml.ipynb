{
 "cells": [
  {
   "cell_type": "code",
   "execution_count": 67,
   "metadata": {},
   "outputs": [],
   "source": [
    "from contextlib import contextmanager\n",
    "import sqlite3\n",
    "import yaml"
   ]
  },
  {
   "cell_type": "code",
   "execution_count": 68,
   "metadata": {},
   "outputs": [
    {
     "name": "stdout",
     "output_type": "stream",
     "text": [
      "/Users/jeremy/projects/hyperborea3/scripts/spell_desc\n"
     ]
    }
   ],
   "source": [
    "! pwd"
   ]
  },
  {
   "cell_type": "code",
   "execution_count": 69,
   "metadata": {},
   "outputs": [],
   "source": [
    "load_folder = \"lvl1\""
   ]
  },
  {
   "cell_type": "code",
   "execution_count": 70,
   "metadata": {},
   "outputs": [],
   "source": [
    "@contextmanager\n",
    "def db_cur():\n",
    "    URI = f\"../../hyperborea3/hyperborea.sqlite3\"\n",
    "    con = sqlite3.connect(URI, check_same_thread=False)\n",
    "    con.row_factory = sqlite3.Row\n",
    "    cur = con.cursor()\n",
    "    yield cur\n",
    "    con.commit()\n",
    "    con.close()"
   ]
  },
  {
   "cell_type": "markdown",
   "metadata": {},
   "source": [
    "Test connection to db"
   ]
  },
  {
   "cell_type": "code",
   "execution_count": 71,
   "metadata": {},
   "outputs": [
    {
     "data": {
      "text/plain": [
       "[{'spell_id': 1,\n",
       "  'spell_name': 'Acid Arrow',\n",
       "  'rng': '30 feet',\n",
       "  'dur': 'special',\n",
       "  'reversible': 0,\n",
       "  'pp': 175,\n",
       "  'spell_desc': '<p>A magic arrow darts from the finger of the caster. On a successful attack roll (<i>dexterity</i> modifier applies), the acid arrow strikes for 1d4+1 hp physical damage, plus an additional 2d4 hp acid damage in the same round. Magicians (but not other sorcerers) enjoy a +1 bonus to the attack roll for every 2 CA levels (CA 3–4 = +2, CA 5–6 = +3, and so forth). Acid damage will persist for higher level sorcerers:</p> <ul> <li>1 extra round for CA 4–6</li> <li>2 extra rounds for CA 7–9</li> <li>3 extra rounds for CA 10 or greater.</li> </ul> <p>For example, an <i>acid arrow</i> fired by a CA 12 sorcerer on round 1 would inflict 1d4+1 hp base damage plus 2d4 hp acid damage on round 1, 2d4 hp acid damage on round 2, 2d4 hp acid damage on round 3, and a final 2d4 hp acid damage on round 4. The acid may ruin armour or clothing per referee discretion. <i>N.B.</i>: If using the optional <i>critical hits and misses</i> rules, <i>acid arrow</i> is subject to critical success or failure; however, magicians should use the “fighter” column in each such instance. Also, any multiplied damage that results from a critical hit or critical miss applies strictly to the arrow’s physical damage, not the acid.</p>'}]"
      ]
     },
     "execution_count": 71,
     "metadata": {},
     "output_type": "execute_result"
    }
   ],
   "source": [
    "with db_cur() as cur:\n",
    "    cur.execute(\"\"\"\n",
    "        SELECT *\n",
    "          FROM spells;\n",
    "    \"\"\")\n",
    "    result = [dict(x) for x in cur.fetchall()]\n",
    "result[:1]"
   ]
  },
  {
   "cell_type": "code",
   "execution_count": 72,
   "metadata": {},
   "outputs": [
    {
     "data": {
      "text/plain": [
       "['lvl1/Alarm.yml',\n",
       " 'lvl1/Alter_Self.yml',\n",
       " 'lvl1/Animate_Carrion.yml',\n",
       " 'lvl1/Auditory_Glamour.yml',\n",
       " 'lvl1/Befriend_Animals.yml',\n",
       " 'lvl1/Black_Hand.yml',\n",
       " 'lvl1/Bless.yml',\n",
       " 'lvl1/Bless_Oil_or_Water.yml',\n",
       " 'lvl1/Burning_Hands.yml',\n",
       " 'lvl1/Ceremony_of_Consecration.yml',\n",
       " 'lvl1/Charm_Person.yml']"
      ]
     },
     "execution_count": 72,
     "metadata": {},
     "output_type": "execute_result"
    }
   ],
   "source": [
    "files = ! ls {load_folder}/*\n",
    "files"
   ]
  },
  {
   "cell_type": "code",
   "execution_count": 73,
   "metadata": {},
   "outputs": [],
   "source": [
    "def load_yml_spell(file_name):\n",
    "    with open(file_name, \"r\") as f:\n",
    "        spell = yaml.safe_load(f)\n",
    "    return spell"
   ]
  },
  {
   "cell_type": "code",
   "execution_count": 74,
   "metadata": {},
   "outputs": [],
   "source": [
    "def spell_preload_check(spell):\n",
    "    with db_cur() as cur:\n",
    "        cur.execute(\n",
    "            \"\"\"\n",
    "            SELECT *\n",
    "            FROM spells\n",
    "            WHERE spell_id = ?;\n",
    "            \"\"\",\n",
    "            (spell[\"id\"],),\n",
    "        )\n",
    "        db_spell = cur.fetchone()\n",
    "    assert spell[\"name\"] == db_spell[\"spell_name\"]\n",
    "    assert isinstance(spell[\"id\"], int)\n",
    "    assert isinstance(spell[\"pp\"], int)\n",
    "    assert isinstance(spell[\"Rng\"], (str, int))\n",
    "    assert isinstance(spell[\"Dur\"], str)\n",
    "    assert spell[\"Rev\"] in [0, 1]\n",
    "    assert isinstance(spell[\"Desc\"], str)\n",
    "\n"
   ]
  },
  {
   "cell_type": "code",
   "execution_count": 75,
   "metadata": {},
   "outputs": [],
   "source": [
    "def update_spell(spell):\n",
    "    with db_cur() as cur:\n",
    "        cur.execute(\n",
    "            \"\"\"\n",
    "            UPDATE spells\n",
    "            SET rng = ?\n",
    "                , dur = ?\n",
    "                , reversible = ?\n",
    "                , pp = ?\n",
    "                , spell_desc = ?\n",
    "            WHERE spell_id = ?;\n",
    "            \"\"\",\n",
    "            (\n",
    "                spell[\"Rng\"],\n",
    "                spell[\"Dur\"],\n",
    "                spell[\"Rev\"],\n",
    "                spell[\"pp\"],\n",
    "                spell[\"Desc\"],\n",
    "                spell[\"id\"],\n",
    "            ),\n",
    "        )\n",
    "    return "
   ]
  },
  {
   "cell_type": "markdown",
   "metadata": {},
   "source": [
    "### Test parsing all the files"
   ]
  },
  {
   "cell_type": "code",
   "execution_count": 76,
   "metadata": {},
   "outputs": [],
   "source": [
    "for f in files:\n",
    "    spell = load_yml_spell(f)\n",
    "    spell_preload_check(spell)"
   ]
  },
  {
   "cell_type": "markdown",
   "metadata": {},
   "source": [
    "Do it for real"
   ]
  },
  {
   "cell_type": "code",
   "execution_count": 77,
   "metadata": {},
   "outputs": [],
   "source": [
    "for f in files:\n",
    "    spell = load_yml_spell(f)\n",
    "    spell_preload_check(spell)\n",
    "    update_spell(spell)"
   ]
  },
  {
   "cell_type": "code",
   "execution_count": 78,
   "metadata": {},
   "outputs": [
    {
     "data": {
      "text/plain": [
       "{'name': 'Charm Person',\n",
       " 'id': 53,\n",
       " 'pp': 183,\n",
       " 'Rng': '120 feet',\n",
       " 'Dur': 'special',\n",
       " 'Rev': 0,\n",
       " 'Desc': '<p>The target of this spell (human, humanoid, or giant) must make a <i>sorcery</i> saving throw, modified by <i>willpower adjustment</i>, if applicable. If the save fails, the victim views the caster as a close and trusted comrade to be protected and defended for the duration of the spell. If the ensorcelled victim understands the caster’s language, the caster can “suggest” the victim perform various tasks, so long as they are not diametrically opposite to the victim’s nature.</p><p>The spell <i>dispel magic</i> can cancel this spell. Otherwise, additional <i>sorcery</i> saving throws (<i>willpower adjustment</i> applies) are allowed to break the spell at a time predicated on the targets intelligence (IN) score.:<ul><li>13–18 IN = new save every 6 turns</li><li>9–12 IN = new save every 24 hours</li><li>3–8 IN = new save once per week</li></ul></p>'}"
      ]
     },
     "execution_count": 78,
     "metadata": {},
     "output_type": "execute_result"
    }
   ],
   "source": [
    "load_yml_spell(files[-1])"
   ]
  },
  {
   "cell_type": "code",
   "execution_count": null,
   "metadata": {},
   "outputs": [],
   "source": []
  },
  {
   "cell_type": "code",
   "execution_count": null,
   "metadata": {},
   "outputs": [],
   "source": []
  }
 ],
 "metadata": {
  "interpreter": {
   "hash": "b3a33ac414a6eff29b6bebb40ea1a22bfb0d461553a55173a7b37d8588e9345d"
  },
  "kernelspec": {
   "display_name": "Python 3.10.0 64-bit ('hyperborea-env')",
   "language": "python",
   "name": "python3"
  },
  "language_info": {
   "codemirror_mode": {
    "name": "ipython",
    "version": 3
   },
   "file_extension": ".py",
   "mimetype": "text/x-python",
   "name": "python",
   "nbconvert_exporter": "python",
   "pygments_lexer": "ipython3",
   "version": "3.10.0"
  },
  "orig_nbformat": 4
 },
 "nbformat": 4,
 "nbformat_minor": 2
}
