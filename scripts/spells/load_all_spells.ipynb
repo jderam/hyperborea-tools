{
 "cells": [
  {
   "cell_type": "code",
   "execution_count": 7,
   "metadata": {},
   "outputs": [],
   "source": [
    "from contextlib import contextmanager\n",
    "import sqlite3\n",
    "import yaml"
   ]
  },
  {
   "cell_type": "code",
   "execution_count": 8,
   "metadata": {},
   "outputs": [
    {
     "name": "stdout",
     "output_type": "stream",
     "text": [
      "/home/jeremy/projects/hyperborea3/scripts/spells\n"
     ]
    }
   ],
   "source": [
    "curr_dir = ! pwd\n",
    "curr_dir = curr_dir[0]\n",
    "print(curr_dir)\n",
    "assert curr_dir.endswith(\"hyperborea3/scripts/spells\")"
   ]
  },
  {
   "cell_type": "code",
   "execution_count": 9,
   "metadata": {},
   "outputs": [],
   "source": [
    "load_folders = [\"lvl1\", \"lvl2\", \"lvl3\", \"lvl4\", \"lvl5\", \"lvl6\"]"
   ]
  },
  {
   "cell_type": "code",
   "execution_count": 10,
   "metadata": {},
   "outputs": [],
   "source": [
    "@contextmanager\n",
    "def db_cur():\n",
    "    URI = f\"../../hyperborea3/hyperborea.sqlite3\"\n",
    "    con = sqlite3.connect(URI, check_same_thread=False)\n",
    "    con.row_factory = sqlite3.Row\n",
    "    cur = con.cursor()\n",
    "    yield cur\n",
    "    con.commit()\n",
    "    con.close()"
   ]
  },
  {
   "cell_type": "markdown",
   "metadata": {},
   "source": [
    "Test connection to db"
   ]
  },
  {
   "cell_type": "code",
   "execution_count": 11,
   "metadata": {},
   "outputs": [
    {
     "data": {
      "text/plain": [
       "[{'spell_id': 1,\n",
       "  'spell_name': 'Acid Arrow',\n",
       "  'rng': '30 feet',\n",
       "  'dur': 'special',\n",
       "  'reversible': 0,\n",
       "  'pp': 175,\n",
       "  'spell_desc': '<p>A magic arrow darts from the finger of the caster. On a successful attack roll (<i>dexterity</i> modifier applies), the <i>acid arrow</i> strikes for 1d4+1 hp physical damage, plus an additional 2d4 hp acid damage in the same round. Magicians (but not other sorcerers) enjoy a +1 bonus to the attack roll for every 2 CA levels (CA 3–4 = +2, CA 5–6 = +3, and so forth). Acid damage will persist for higher level sorcerers:</p> <ul><li>1 extra round for CA 4–6</li> <li>2 extra rounds for CA 7–9</li> <li>3 extra rounds for CA 10 or greater.</li></ul> <p>For example, an <i>acid arrow</i> fired by a CA 12 sorcerer on round 1 would inflict 1d4+1 hp base damage plus 2d4 hp acid damage on round 1, 2d4 hp acid damage on round 2, 2d4 hp acid damage on round 3, and a final 2d4 hp acid damage on round 4. The acid may ruin armour or clothing per referee discretion. <i>N.B.:</i> If using the optional <i>critical hits and misses</i> rules, <i>acid arrow</i> is subject to critical success or failure; however, magicians should use the “fighter” column in each such instance. Also, any multiplied damage that results from a critical hit or critical miss applies strictly to the arrow’s physical damage, not the acid.</p>'}]"
      ]
     },
     "execution_count": 11,
     "metadata": {},
     "output_type": "execute_result"
    }
   ],
   "source": [
    "with db_cur() as cur:\n",
    "    cur.execute(\"\"\"\n",
    "        SELECT *\n",
    "          FROM spells;\n",
    "    \"\"\")\n",
    "    result = [dict(x) for x in cur.fetchall()]\n",
    "result[:1]"
   ]
  },
  {
   "cell_type": "code",
   "execution_count": 12,
   "metadata": {},
   "outputs": [],
   "source": [
    "def load_yml_spell(file_name):\n",
    "    with open(file_name, \"r\") as f:\n",
    "        spell = yaml.safe_load(f)\n",
    "    return spell"
   ]
  },
  {
   "cell_type": "code",
   "execution_count": 13,
   "metadata": {},
   "outputs": [],
   "source": [
    "def spell_preload_check(spell):\n",
    "    with db_cur() as cur:\n",
    "        cur.execute(\n",
    "            \"\"\"\n",
    "            SELECT *\n",
    "            FROM spells\n",
    "            WHERE spell_id = ?;\n",
    "            \"\"\",\n",
    "            (spell[\"id\"],),\n",
    "        )\n",
    "        db_spell = cur.fetchone()\n",
    "    assert spell[\"name\"] == db_spell[\"spell_name\"]\n",
    "    assert isinstance(spell[\"id\"], int)\n",
    "    assert isinstance(spell[\"pp\"], int)\n",
    "    assert isinstance(spell[\"Rng\"], (str, int))\n",
    "    assert isinstance(spell[\"Dur\"], str)\n",
    "    assert spell[\"Rev\"] in [0, 1]\n",
    "    assert isinstance(spell[\"Desc\"], str)\n",
    "    assert spell[\"Desc\"][:3] == \"<p>\"\n",
    "    if spell[\"id\"] not in [52, 53, 75, 105, 346]:\n",
    "        assert spell[\"Desc\"][-4:] == \"</p>\"\n",
    "\n"
   ]
  },
  {
   "cell_type": "code",
   "execution_count": 14,
   "metadata": {},
   "outputs": [],
   "source": [
    "def update_spell(spell):\n",
    "    with db_cur() as cur:\n",
    "        cur.execute(\n",
    "            \"\"\"\n",
    "            UPDATE spells\n",
    "            SET rng = ?\n",
    "                , dur = ?\n",
    "                , reversible = ?\n",
    "                , pp = ?\n",
    "                , spell_desc = ?\n",
    "            WHERE spell_id = ?;\n",
    "            \"\"\",\n",
    "            (\n",
    "                spell[\"Rng\"],\n",
    "                spell[\"Dur\"],\n",
    "                spell[\"Rev\"],\n",
    "                spell[\"pp\"],\n",
    "                spell[\"Desc\"],\n",
    "                spell[\"id\"],\n",
    "            ),\n",
    "        )\n",
    "    return "
   ]
  },
  {
   "cell_type": "code",
   "execution_count": 15,
   "metadata": {},
   "outputs": [],
   "source": [
    "for folder in load_folders:\n",
    "    files = ! ls {folder}/*.yml\n",
    "    for f in files:\n",
    "        spell = load_yml_spell(f)\n",
    "        spell_preload_check(spell)\n",
    "        update_spell(spell)\n"
   ]
  },
  {
   "cell_type": "code",
   "execution_count": null,
   "metadata": {},
   "outputs": [],
   "source": []
  },
  {
   "cell_type": "code",
   "execution_count": null,
   "metadata": {},
   "outputs": [],
   "source": []
  }
 ],
 "metadata": {
  "kernelspec": {
   "display_name": "Python 3.10.9 64-bit ('hyperborea3')",
   "language": "python",
   "name": "python3"
  },
  "language_info": {
   "codemirror_mode": {
    "name": "ipython",
    "version": 3
   },
   "file_extension": ".py",
   "mimetype": "text/x-python",
   "name": "python",
   "nbconvert_exporter": "python",
   "pygments_lexer": "ipython3",
   "version": "3.10.9"
  },
  "orig_nbformat": 4,
  "vscode": {
   "interpreter": {
    "hash": "6cc58666e325d25f168469cc4291b80223b2a18df9e8584044e805bcd06daa55"
   }
  }
 },
 "nbformat": 4,
 "nbformat_minor": 2
}
