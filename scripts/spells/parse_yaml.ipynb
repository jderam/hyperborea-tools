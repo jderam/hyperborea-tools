{
 "cells": [
  {
   "cell_type": "code",
   "execution_count": 1,
   "metadata": {},
   "outputs": [],
   "source": [
    "from contextlib import contextmanager\n",
    "import sqlite3\n",
    "import yaml"
   ]
  },
  {
   "cell_type": "code",
   "execution_count": 2,
   "metadata": {},
   "outputs": [
    {
     "name": "stdout",
     "output_type": "stream",
     "text": [
      "/home/jeremy/projects/hyperborea3/scripts/spells\n"
     ]
    }
   ],
   "source": [
    "curr_dir = ! pwd\n",
    "curr_dir = curr_dir[0]\n",
    "print(curr_dir)\n",
    "assert curr_dir.endswith(\"hyperborea3/scripts/spells\")"
   ]
  },
  {
   "cell_type": "code",
   "execution_count": 3,
   "metadata": {},
   "outputs": [],
   "source": [
    "load_folder = \"lvl5\""
   ]
  },
  {
   "cell_type": "code",
   "execution_count": 4,
   "metadata": {},
   "outputs": [],
   "source": [
    "@contextmanager\n",
    "def db_cur():\n",
    "    URI = f\"../../hyperborea3/hyperborea.sqlite3\"\n",
    "    con = sqlite3.connect(URI, check_same_thread=False)\n",
    "    con.row_factory = sqlite3.Row\n",
    "    cur = con.cursor()\n",
    "    yield cur\n",
    "    con.commit()\n",
    "    con.close()"
   ]
  },
  {
   "cell_type": "markdown",
   "metadata": {},
   "source": [
    "Test connection to db"
   ]
  },
  {
   "cell_type": "code",
   "execution_count": 5,
   "metadata": {},
   "outputs": [
    {
     "data": {
      "text/plain": [
       "[{'spell_id': 1,\n",
       "  'spell_name': 'Acid Arrow',\n",
       "  'rng': '30 feet',\n",
       "  'dur': 'special',\n",
       "  'reversible': 0,\n",
       "  'pp': 175,\n",
       "  'spell_desc': '<p>A magic arrow darts from the finger of the caster. On a successful attack roll (<i>dexterity</i> modifier applies), the <i>acid arrow</i> strikes for 1d4+1 hp physical damage, plus an additional 2d4 hp acid damage in the same round. Magicians (but not other sorcerers) enjoy a +1 bonus to the attack roll for every 2 CA levels (CA 3–4 = +2, CA 5–6 = +3, and so forth). Acid damage will persist for higher level sorcerers:</p> <ul><li>1 extra round for CA 4–6</li> <li>2 extra rounds for CA 7–9</li> <li>3 extra rounds for CA 10 or greater.</li></ul> <p>For example, an <i>acid arrow</i> fired by a CA 12 sorcerer on round 1 would inflict 1d4+1 hp base damage plus 2d4 hp acid damage on round 1, 2d4 hp acid damage on round 2, 2d4 hp acid damage on round 3, and a final 2d4 hp acid damage on round 4. The acid may ruin armour or clothing per referee discretion. <i>N.B.:</i> If using the optional <i>critical hits and misses</i> rules, <i>acid arrow</i> is subject to critical success or failure; however, magicians should use the “fighter” column in each such instance. Also, any multiplied damage that results from a critical hit or critical miss applies strictly to the arrow’s physical damage, not the acid.</p>'}]"
      ]
     },
     "execution_count": 5,
     "metadata": {},
     "output_type": "execute_result"
    }
   ],
   "source": [
    "with db_cur() as cur:\n",
    "    cur.execute(\"\"\"\n",
    "        SELECT *\n",
    "          FROM spells;\n",
    "    \"\"\")\n",
    "    result = [dict(x) for x in cur.fetchall()]\n",
    "result[:1]"
   ]
  },
  {
   "cell_type": "code",
   "execution_count": 6,
   "metadata": {},
   "outputs": [
    {
     "data": {
      "text/plain": [
       "['lvl5/Advanced_Hypnotism.yml',\n",
       " 'lvl5/Advanced_Spectral_Phantasm.yml',\n",
       " 'lvl5/Air-like_Water.yml',\n",
       " 'lvl5/Air_Walk.yml',\n",
       " 'lvl5/Animal_Growth.yml',\n",
       " 'lvl5/Animate_Carrion_III.yml',\n",
       " 'lvl5/Anti-Magic_Field.yml',\n",
       " 'lvl5/Anti-Plant_Shell.yml',\n",
       " 'lvl5/Atonement.yml',\n",
       " 'lvl5/Breathe_Fire.yml',\n",
       " 'lvl5/Breathe_Frost.yml',\n",
       " 'lvl5/Cause_Lycanthropy.yml',\n",
       " 'lvl5/Cloudkill.yml',\n",
       " 'lvl5/Commune.yml',\n",
       " 'lvl5/Commune_with_Nature.yml',\n",
       " 'lvl5/Contact_Otherworldly_Being.yml',\n",
       " 'lvl5/Control_Winds.yml',\n",
       " 'lvl5/Cure_Critical_Wounds.yml',\n",
       " 'lvl5/Cure_Madness.yml',\n",
       " 'lvl5/Death.yml',\n",
       " 'lvl5/Death_Smoke_Cloud.yml',\n",
       " 'lvl5/Dismissal.yml',\n",
       " 'lvl5/Dispel_Evil.yml',\n",
       " 'lvl5/Extend_Spell_II.yml',\n",
       " 'lvl5/Fabricate.yml',\n",
       " 'lvl5/Feeblemind.yml',\n",
       " 'lvl5/Finger_of_Death.yml',\n",
       " 'lvl5/Flame_Strike.yml',\n",
       " 'lvl5/Gelatinize_Bones.yml',\n",
       " 'lvl5/Hold_Monster.yml',\n",
       " 'lvl5/Ice_Bridge.yml',\n",
       " 'lvl5/Incite_Chaos.yml',\n",
       " 'lvl5/Inoculate.yml',\n",
       " 'lvl5/Interposing_Hand.yml',\n",
       " 'lvl5/Magic_Jar.yml',\n",
       " 'lvl5/Major_Creation.yml',\n",
       " 'lvl5/Maze.yml',\n",
       " 'lvl5/Pass_Tree.yml',\n",
       " 'lvl5/Passwall.yml',\n",
       " 'lvl5/Phantasmal_Door.yml',\n",
       " 'lvl5/Plague_Rats.yml',\n",
       " 'lvl5/Plane_Shift.yml',\n",
       " 'lvl5/Prismatic_Wall.yml',\n",
       " 'lvl5/Project_Image.yml',\n",
       " 'lvl5/Quest.yml',\n",
       " 'lvl5/Raise_Dead.yml',\n",
       " 'lvl5/Secret_Chest.yml',\n",
       " 'lvl5/Sending.yml',\n",
       " 'lvl5/Shadow_Conjuration.yml',\n",
       " 'lvl5/Shadow_Sorcery.yml',\n",
       " 'lvl5/Sleep_Everlasting.yml',\n",
       " 'lvl5/Spawn_Demi-Shadow_Monsters.yml',\n",
       " 'lvl5/Summon_Animal_II.yml',\n",
       " 'lvl5/Summon_Bat_Swarm.yml',\n",
       " 'lvl5/Summon_Dæmon_III.yml',\n",
       " 'lvl5/Summon_Elemental.yml',\n",
       " 'lvl5/Summon_Firefly_Swarm.yml',\n",
       " 'lvl5/Summon_Monster_III.yml',\n",
       " 'lvl5/Telekinesis.yml',\n",
       " 'lvl5/Teleport.yml',\n",
       " 'lvl5/Temporal_Acceleration.yml',\n",
       " 'lvl5/Transform_to_Hell_Hound.yml',\n",
       " 'lvl5/Transform_to_Winter_Wolf.yml',\n",
       " 'lvl5/Transmute_Rock_to_Mud.yml',\n",
       " 'lvl5/True_Seeing.yml',\n",
       " 'lvl5/Wall_of_Force.yml',\n",
       " 'lvl5/Wall_of_Iron.yml',\n",
       " 'lvl5/Wall_of_Stone.yml',\n",
       " 'lvl5/Wall_of_Thorns.yml']"
      ]
     },
     "execution_count": 6,
     "metadata": {},
     "output_type": "execute_result"
    }
   ],
   "source": [
    "files = ! ls {load_folder}/*.yml\n",
    "files"
   ]
  },
  {
   "cell_type": "code",
   "execution_count": 7,
   "metadata": {},
   "outputs": [],
   "source": [
    "def load_yml_spell(file_name):\n",
    "    with open(file_name, \"r\") as f:\n",
    "        spell = yaml.safe_load(f)\n",
    "    return spell"
   ]
  },
  {
   "cell_type": "code",
   "execution_count": 12,
   "metadata": {},
   "outputs": [],
   "source": [
    "def spell_preload_check(spell):\n",
    "    with db_cur() as cur:\n",
    "        cur.execute(\n",
    "            \"\"\"\n",
    "            SELECT *\n",
    "            FROM spells\n",
    "            WHERE spell_id = ?;\n",
    "            \"\"\",\n",
    "            (spell[\"id\"],),\n",
    "        )\n",
    "        db_spell = cur.fetchone()\n",
    "    assert spell[\"name\"] == db_spell[\"spell_name\"]\n",
    "    assert isinstance(spell[\"id\"], int)\n",
    "    assert isinstance(spell[\"pp\"], int)\n",
    "    assert isinstance(spell[\"Rng\"], (str, int))\n",
    "    assert isinstance(spell[\"Dur\"], str)\n",
    "    assert spell[\"Rev\"] in [0, 1]\n",
    "    assert isinstance(spell[\"Desc\"], str)\n",
    "    assert spell[\"Desc\"][:3] == \"<p>\"\n",
    "    if spell[\"id\"] not in [53, 346]:\n",
    "        assert spell[\"Desc\"][-4:] == \"</p>\"\n",
    "\n"
   ]
  },
  {
   "cell_type": "code",
   "execution_count": 13,
   "metadata": {},
   "outputs": [],
   "source": [
    "def update_spell(spell):\n",
    "    with db_cur() as cur:\n",
    "        cur.execute(\n",
    "            \"\"\"\n",
    "            UPDATE spells\n",
    "            SET rng = ?\n",
    "                , dur = ?\n",
    "                , reversible = ?\n",
    "                , pp = ?\n",
    "                , spell_desc = ?\n",
    "            WHERE spell_id = ?;\n",
    "            \"\"\",\n",
    "            (\n",
    "                spell[\"Rng\"],\n",
    "                spell[\"Dur\"],\n",
    "                spell[\"Rev\"],\n",
    "                spell[\"pp\"],\n",
    "                spell[\"Desc\"],\n",
    "                spell[\"id\"],\n",
    "            ),\n",
    "        )\n",
    "    return "
   ]
  },
  {
   "cell_type": "markdown",
   "metadata": {},
   "source": [
    "### Test parsing all the files"
   ]
  },
  {
   "cell_type": "code",
   "execution_count": 14,
   "metadata": {},
   "outputs": [
    {
     "name": "stdout",
     "output_type": "stream",
     "text": [
      "checking lvl5/Advanced_Hypnotism.yml\n",
      "success\n",
      "\n",
      "checking lvl5/Advanced_Spectral_Phantasm.yml\n",
      "success\n",
      "\n",
      "checking lvl5/Air-like_Water.yml\n",
      "success\n",
      "\n",
      "checking lvl5/Air_Walk.yml\n",
      "success\n",
      "\n",
      "checking lvl5/Animal_Growth.yml\n",
      "success\n",
      "\n",
      "checking lvl5/Animate_Carrion_III.yml\n",
      "success\n",
      "\n",
      "checking lvl5/Anti-Magic_Field.yml\n",
      "success\n",
      "\n",
      "checking lvl5/Anti-Plant_Shell.yml\n",
      "success\n",
      "\n",
      "checking lvl5/Atonement.yml\n",
      "success\n",
      "\n",
      "checking lvl5/Breathe_Fire.yml\n",
      "success\n",
      "\n",
      "checking lvl5/Breathe_Frost.yml\n",
      "success\n",
      "\n",
      "checking lvl5/Cause_Lycanthropy.yml\n",
      "success\n",
      "\n",
      "checking lvl5/Cloudkill.yml\n",
      "success\n",
      "\n",
      "checking lvl5/Commune.yml\n",
      "success\n",
      "\n",
      "checking lvl5/Commune_with_Nature.yml\n",
      "success\n",
      "\n",
      "checking lvl5/Contact_Otherworldly_Being.yml\n",
      "success\n",
      "\n",
      "checking lvl5/Control_Winds.yml\n",
      "success\n",
      "\n",
      "checking lvl5/Cure_Critical_Wounds.yml\n",
      "success\n",
      "\n",
      "checking lvl5/Cure_Madness.yml\n",
      "success\n",
      "\n",
      "checking lvl5/Death.yml\n",
      "success\n",
      "\n",
      "checking lvl5/Death_Smoke_Cloud.yml\n",
      "success\n",
      "\n",
      "checking lvl5/Dismissal.yml\n",
      "success\n",
      "\n",
      "checking lvl5/Dispel_Evil.yml\n",
      "success\n",
      "\n",
      "checking lvl5/Extend_Spell_II.yml\n",
      "success\n",
      "\n",
      "checking lvl5/Fabricate.yml\n",
      "success\n",
      "\n",
      "checking lvl5/Feeblemind.yml\n",
      "success\n",
      "\n",
      "checking lvl5/Finger_of_Death.yml\n",
      "success\n",
      "\n",
      "checking lvl5/Flame_Strike.yml\n",
      "success\n",
      "\n",
      "checking lvl5/Gelatinize_Bones.yml\n",
      "success\n",
      "\n",
      "checking lvl5/Hold_Monster.yml\n",
      "success\n",
      "\n",
      "checking lvl5/Ice_Bridge.yml\n",
      "success\n",
      "\n",
      "checking lvl5/Incite_Chaos.yml\n",
      "success\n",
      "\n",
      "checking lvl5/Inoculate.yml\n",
      "success\n",
      "\n",
      "checking lvl5/Interposing_Hand.yml\n",
      "success\n",
      "\n",
      "checking lvl5/Magic_Jar.yml\n",
      "success\n",
      "\n",
      "checking lvl5/Major_Creation.yml\n",
      "success\n",
      "\n",
      "checking lvl5/Maze.yml\n",
      "success\n",
      "\n",
      "checking lvl5/Pass_Tree.yml\n",
      "success\n",
      "\n",
      "checking lvl5/Passwall.yml\n",
      "success\n",
      "\n",
      "checking lvl5/Phantasmal_Door.yml\n",
      "success\n",
      "\n",
      "checking lvl5/Plague_Rats.yml\n",
      "success\n",
      "\n",
      "checking lvl5/Plane_Shift.yml\n",
      "success\n",
      "\n",
      "checking lvl5/Prismatic_Wall.yml\n",
      "success\n",
      "\n",
      "checking lvl5/Project_Image.yml\n",
      "success\n",
      "\n",
      "checking lvl5/Quest.yml\n",
      "success\n",
      "\n",
      "checking lvl5/Raise_Dead.yml\n",
      "success\n",
      "\n",
      "checking lvl5/Secret_Chest.yml\n",
      "success\n",
      "\n",
      "checking lvl5/Sending.yml\n",
      "success\n",
      "\n",
      "checking lvl5/Shadow_Conjuration.yml\n",
      "success\n",
      "\n",
      "checking lvl5/Shadow_Sorcery.yml\n",
      "success\n",
      "\n",
      "checking lvl5/Sleep_Everlasting.yml\n",
      "success\n",
      "\n",
      "checking lvl5/Spawn_Demi-Shadow_Monsters.yml\n",
      "success\n",
      "\n",
      "checking lvl5/Summon_Animal_II.yml\n",
      "success\n",
      "\n",
      "checking lvl5/Summon_Bat_Swarm.yml\n",
      "success\n",
      "\n",
      "checking lvl5/Summon_Dæmon_III.yml\n",
      "success\n",
      "\n",
      "checking lvl5/Summon_Elemental.yml\n",
      "success\n",
      "\n",
      "checking lvl5/Summon_Firefly_Swarm.yml\n",
      "success\n",
      "\n",
      "checking lvl5/Summon_Monster_III.yml\n",
      "success\n",
      "\n",
      "checking lvl5/Telekinesis.yml\n",
      "success\n",
      "\n",
      "checking lvl5/Teleport.yml\n",
      "success\n",
      "\n",
      "checking lvl5/Temporal_Acceleration.yml\n",
      "success\n",
      "\n",
      "checking lvl5/Transform_to_Hell_Hound.yml\n",
      "success\n",
      "\n",
      "checking lvl5/Transform_to_Winter_Wolf.yml\n",
      "success\n",
      "\n",
      "checking lvl5/Transmute_Rock_to_Mud.yml\n",
      "success\n",
      "\n",
      "checking lvl5/True_Seeing.yml\n",
      "success\n",
      "\n",
      "checking lvl5/Wall_of_Force.yml\n",
      "success\n",
      "\n",
      "checking lvl5/Wall_of_Iron.yml\n",
      "success\n",
      "\n",
      "checking lvl5/Wall_of_Stone.yml\n",
      "success\n",
      "\n",
      "checking lvl5/Wall_of_Thorns.yml\n",
      "success\n",
      "\n"
     ]
    }
   ],
   "source": [
    "for f in files:\n",
    "    print(f\"checking {f}\")\n",
    "    spell = load_yml_spell(f)\n",
    "    spell_preload_check(spell)\n",
    "    print(\"success\")\n",
    "    print()"
   ]
  },
  {
   "cell_type": "markdown",
   "metadata": {},
   "source": [
    "Do it for real"
   ]
  },
  {
   "cell_type": "code",
   "execution_count": 15,
   "metadata": {},
   "outputs": [],
   "source": [
    "for f in files:\n",
    "    spell = load_yml_spell(f)\n",
    "    spell_preload_check(spell)\n",
    "    update_spell(spell)"
   ]
  },
  {
   "cell_type": "code",
   "execution_count": 16,
   "metadata": {},
   "outputs": [
    {
     "data": {
      "text/plain": [
       "{'id': 439,\n",
       " 'name': 'Wall of Thorns',\n",
       " 'pp': 245,\n",
       " 'Lvl': ['drd 5'],\n",
       " 'Rng': '90 feet',\n",
       " 'Dur': '1 turn per CA level',\n",
       " 'Rev': 0,\n",
       " 'Desc': '<p>Evokes a giant mass of gnarly, resilient, pliable brush to take form. These thick, tangled vines bristle with dagger-like thorns of three- to five-inch length. The sorcerer may shape the barrier as desired, as large as 1,000 cubic feet per CA level; for instance, a CA 10 sorcerer may create a <i>wall of thorns</i> 50 feet long, 20 feet deep, and 10 feet high. Creatures caught in the spell’s designated area of effect suffer 1d10+10 hp damage. If one attempts to push through the <i>wall of thorns</i> or otherwise comes into abrupt contact with it, similar damage is sustained and repeated for every 10 feet of movement within the mass.</p> <p>To avoid additional damage, one can chop through with a stout blade, such as a sword, axe, or heavy knife. Cutting through 10 feet of this enchanted barrier requires 1 turn. Mundane fire will not harm the <i>wall of thorns</i>, as the vines are coated with an oily enzyme; magical fire will burn the <i>wall of thorns</i> within 1 turn of contact, effecting a <i>wall of fire</i> spell that blazes for a single turn.</p>'}"
      ]
     },
     "execution_count": 16,
     "metadata": {},
     "output_type": "execute_result"
    }
   ],
   "source": [
    "load_yml_spell(files[-1])"
   ]
  },
  {
   "cell_type": "code",
   "execution_count": null,
   "metadata": {},
   "outputs": [],
   "source": []
  },
  {
   "cell_type": "code",
   "execution_count": null,
   "metadata": {},
   "outputs": [],
   "source": []
  }
 ],
 "metadata": {
  "kernelspec": {
   "display_name": "Python 3.10.0 64-bit ('hyperborea-env')",
   "language": "python",
   "name": "python3"
  },
  "language_info": {
   "codemirror_mode": {
    "name": "ipython",
    "version": 3
   },
   "file_extension": ".py",
   "mimetype": "text/x-python",
   "name": "python",
   "nbconvert_exporter": "python",
   "pygments_lexer": "ipython3",
   "version": "3.10.0"
  },
  "orig_nbformat": 4,
  "vscode": {
   "interpreter": {
    "hash": "469203c1cadf9557d99b5cfc9ed89a3e86d8a3e81e41afcca646f327a0550c4c"
   }
  }
 },
 "nbformat": 4,
 "nbformat_minor": 2
}
