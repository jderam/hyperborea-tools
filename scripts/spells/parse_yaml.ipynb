{
 "cells": [
  {
   "cell_type": "code",
   "execution_count": 1,
   "metadata": {},
   "outputs": [],
   "source": [
    "from contextlib import contextmanager\n",
    "import sqlite3\n",
    "import yaml"
   ]
  },
  {
   "cell_type": "code",
   "execution_count": 2,
   "metadata": {},
   "outputs": [
    {
     "name": "stdout",
     "output_type": "stream",
     "text": [
      "/home/jeremy/projects/hyperborea3/scripts/spells\n"
     ]
    }
   ],
   "source": [
    "curr_dir = ! pwd\n",
    "curr_dir = curr_dir[0]\n",
    "print(curr_dir)\n",
    "assert curr_dir.endswith(\"hyperborea3/scripts/spells\")"
   ]
  },
  {
   "cell_type": "code",
   "execution_count": 3,
   "metadata": {},
   "outputs": [],
   "source": [
    "load_folder = \"lvl6\""
   ]
  },
  {
   "cell_type": "code",
   "execution_count": 4,
   "metadata": {},
   "outputs": [],
   "source": [
    "@contextmanager\n",
    "def db_cur():\n",
    "    URI = f\"../../hyperborea3/hyperborea.sqlite3\"\n",
    "    con = sqlite3.connect(URI, check_same_thread=False)\n",
    "    con.row_factory = sqlite3.Row\n",
    "    cur = con.cursor()\n",
    "    yield cur\n",
    "    con.commit()\n",
    "    con.close()"
   ]
  },
  {
   "cell_type": "markdown",
   "metadata": {},
   "source": [
    "Test connection to db"
   ]
  },
  {
   "cell_type": "code",
   "execution_count": 5,
   "metadata": {},
   "outputs": [
    {
     "data": {
      "text/plain": [
       "[{'spell_id': 1,\n",
       "  'spell_name': 'Acid Arrow',\n",
       "  'rng': '30 feet',\n",
       "  'dur': 'special',\n",
       "  'reversible': 0,\n",
       "  'pp': 175,\n",
       "  'spell_desc': '<p>A magic arrow darts from the finger of the caster. On a successful attack roll (<i>dexterity</i> modifier applies), the <i>acid arrow</i> strikes for 1d4+1 hp physical damage, plus an additional 2d4 hp acid damage in the same round. Magicians (but not other sorcerers) enjoy a +1 bonus to the attack roll for every 2 CA levels (CA 3–4 = +2, CA 5–6 = +3, and so forth). Acid damage will persist for higher level sorcerers:</p> <ul><li>1 extra round for CA 4–6</li> <li>2 extra rounds for CA 7–9</li> <li>3 extra rounds for CA 10 or greater.</li></ul> <p>For example, an <i>acid arrow</i> fired by a CA 12 sorcerer on round 1 would inflict 1d4+1 hp base damage plus 2d4 hp acid damage on round 1, 2d4 hp acid damage on round 2, 2d4 hp acid damage on round 3, and a final 2d4 hp acid damage on round 4. The acid may ruin armour or clothing per referee discretion. <i>N.B.:</i> If using the optional <i>critical hits and misses</i> rules, <i>acid arrow</i> is subject to critical success or failure; however, magicians should use the “fighter” column in each such instance. Also, any multiplied damage that results from a critical hit or critical miss applies strictly to the arrow’s physical damage, not the acid.</p>'}]"
      ]
     },
     "execution_count": 5,
     "metadata": {},
     "output_type": "execute_result"
    }
   ],
   "source": [
    "with db_cur() as cur:\n",
    "    cur.execute(\"\"\"\n",
    "        SELECT *\n",
    "          FROM spells;\n",
    "    \"\"\")\n",
    "    result = [dict(x) for x in cur.fetchall()]\n",
    "result[:1]"
   ]
  },
  {
   "cell_type": "code",
   "execution_count": 6,
   "metadata": {},
   "outputs": [
    {
     "data": {
      "text/plain": [
       "['lvl6/Acid_Fog.yml',\n",
       " 'lvl6/Animate_Dead_II.yml',\n",
       " 'lvl6/Animate_Objects.yml',\n",
       " 'lvl6/Anti-Beast_Shell.yml',\n",
       " 'lvl6/Blade_Barrier.yml',\n",
       " 'lvl6/Chain_Lightning.yml',\n",
       " 'lvl6/Chill_of_Death.yml',\n",
       " 'lvl6/Communicate_with_Monsters.yml',\n",
       " 'lvl6/Control_Lycanthrope.yml',\n",
       " 'lvl6/Control_Weather.yml',\n",
       " 'lvl6/Death_Ray_of_Immolation.yml',\n",
       " 'lvl6/Demi-Shadow_Sorcery.yml',\n",
       " 'lvl6/Disintegrate.yml',\n",
       " 'lvl6/Extend_Spell_III.yml',\n",
       " 'lvl6/Find_the_Path.yml',\n",
       " 'lvl6/Fire_Seeds.yml',\n",
       " 'lvl6/Forbiddance.yml',\n",
       " 'lvl6/Forceful_Hand.yml',\n",
       " 'lvl6/Freezing_Sphere.yml',\n",
       " 'lvl6/Geas.yml',\n",
       " 'lvl6/Globe_of_Invulnerability,_Greater.yml',\n",
       " 'lvl6/Guards_and_Wards.yml',\n",
       " 'lvl6/Heal.yml',\n",
       " 'lvl6/Heroes’_Feast.yml',\n",
       " 'lvl6/Iceberg.yml',\n",
       " 'lvl6/Legend_Lore.yml',\n",
       " 'lvl6/Liveoak.yml',\n",
       " 'lvl6/Mass_Suggestion.yml',\n",
       " 'lvl6/Mirage_Arcana.yml',\n",
       " 'lvl6/Mislead.yml',\n",
       " 'lvl6/Move_Earth.yml',\n",
       " 'lvl6/Permanent_Phantasm.yml',\n",
       " 'lvl6/Phantasmagorical_Precipitousness.yml',\n",
       " 'lvl6/Prismatic_Sphere.yml',\n",
       " 'lvl6/Programmed_Phantasm.yml',\n",
       " 'lvl6/Regeneration.yml',\n",
       " 'lvl6/Reincarnation.yml',\n",
       " 'lvl6/Repel_Wood.yml',\n",
       " 'lvl6/Repulsion.yml',\n",
       " 'lvl6/Restoration.yml',\n",
       " 'lvl6/See.yml',\n",
       " 'lvl6/Spawn_Shades.yml',\n",
       " 'lvl6/Stone_Tell.yml',\n",
       " 'lvl6/Stone_to_Flesh.yml',\n",
       " 'lvl6/Summon_Aerial_Minion.yml',\n",
       " 'lvl6/Summon_Animal_III.yml',\n",
       " 'lvl6/Summon_Fire_Elemental.yml',\n",
       " 'lvl6/Summon_Ice_Dæmon.yml',\n",
       " 'lvl6/Summon_Invisible_Stalker.yml',\n",
       " 'lvl6/Summon_Monster_IV.yml',\n",
       " 'lvl6/Transfer_Youthfulness.yml',\n",
       " 'lvl6/Transform_to_Asp.yml',\n",
       " 'lvl6/Transformation.yml',\n",
       " 'lvl6/Transmute_Rock_to_Lava.yml',\n",
       " 'lvl6/Transport_via_Plants.yml',\n",
       " 'lvl6/Veil.yml',\n",
       " 'lvl6/White_Hand_of_Death.yml',\n",
       " 'lvl6/Word_of_Recall.yml']"
      ]
     },
     "execution_count": 6,
     "metadata": {},
     "output_type": "execute_result"
    }
   ],
   "source": [
    "files = ! ls {load_folder}/*.yml\n",
    "files"
   ]
  },
  {
   "cell_type": "code",
   "execution_count": 7,
   "metadata": {},
   "outputs": [],
   "source": [
    "def load_yml_spell(file_name):\n",
    "    with open(file_name, \"r\") as f:\n",
    "        spell = yaml.safe_load(f)\n",
    "    return spell"
   ]
  },
  {
   "cell_type": "code",
   "execution_count": 14,
   "metadata": {},
   "outputs": [],
   "source": [
    "def spell_preload_check(spell):\n",
    "    with db_cur() as cur:\n",
    "        cur.execute(\n",
    "            \"\"\"\n",
    "            SELECT *\n",
    "            FROM spells\n",
    "            WHERE spell_id = ?;\n",
    "            \"\"\",\n",
    "            (spell[\"id\"],),\n",
    "        )\n",
    "        db_spell = cur.fetchone()\n",
    "    assert spell[\"name\"] == db_spell[\"spell_name\"]\n",
    "    assert isinstance(spell[\"id\"], int)\n",
    "    assert isinstance(spell[\"pp\"], int)\n",
    "    assert isinstance(spell[\"Rng\"], (str, int))\n",
    "    assert isinstance(spell[\"Dur\"], str)\n",
    "    assert spell[\"Rev\"] in [0, 1]\n",
    "    assert isinstance(spell[\"Desc\"], str)\n",
    "    assert spell[\"Desc\"][:3] == \"<p>\"\n",
    "    if spell[\"id\"] not in [53, 75, 105, 346]:\n",
    "        assert spell[\"Desc\"][-4:] == \"</p>\"\n",
    "\n"
   ]
  },
  {
   "cell_type": "code",
   "execution_count": 15,
   "metadata": {},
   "outputs": [],
   "source": [
    "def update_spell(spell):\n",
    "    with db_cur() as cur:\n",
    "        cur.execute(\n",
    "            \"\"\"\n",
    "            UPDATE spells\n",
    "            SET rng = ?\n",
    "                , dur = ?\n",
    "                , reversible = ?\n",
    "                , pp = ?\n",
    "                , spell_desc = ?\n",
    "            WHERE spell_id = ?;\n",
    "            \"\"\",\n",
    "            (\n",
    "                spell[\"Rng\"],\n",
    "                spell[\"Dur\"],\n",
    "                spell[\"Rev\"],\n",
    "                spell[\"pp\"],\n",
    "                spell[\"Desc\"],\n",
    "                spell[\"id\"],\n",
    "            ),\n",
    "        )\n",
    "    return "
   ]
  },
  {
   "cell_type": "markdown",
   "metadata": {},
   "source": [
    "### Test parsing all the files"
   ]
  },
  {
   "cell_type": "code",
   "execution_count": 16,
   "metadata": {},
   "outputs": [
    {
     "name": "stdout",
     "output_type": "stream",
     "text": [
      "checking lvl6/Acid_Fog.yml\n",
      "success\n",
      "\n",
      "checking lvl6/Animate_Dead_II.yml\n",
      "success\n",
      "\n",
      "checking lvl6/Animate_Objects.yml\n",
      "success\n",
      "\n",
      "checking lvl6/Anti-Beast_Shell.yml\n",
      "success\n",
      "\n",
      "checking lvl6/Blade_Barrier.yml\n",
      "success\n",
      "\n",
      "checking lvl6/Chain_Lightning.yml\n",
      "success\n",
      "\n",
      "checking lvl6/Chill_of_Death.yml\n",
      "success\n",
      "\n",
      "checking lvl6/Communicate_with_Monsters.yml\n",
      "success\n",
      "\n",
      "checking lvl6/Control_Lycanthrope.yml\n",
      "success\n",
      "\n",
      "checking lvl6/Control_Weather.yml\n",
      "success\n",
      "\n",
      "checking lvl6/Death_Ray_of_Immolation.yml\n",
      "success\n",
      "\n",
      "checking lvl6/Demi-Shadow_Sorcery.yml\n",
      "success\n",
      "\n",
      "checking lvl6/Disintegrate.yml\n",
      "success\n",
      "\n",
      "checking lvl6/Extend_Spell_III.yml\n",
      "success\n",
      "\n",
      "checking lvl6/Find_the_Path.yml\n",
      "success\n",
      "\n",
      "checking lvl6/Fire_Seeds.yml\n",
      "success\n",
      "\n",
      "checking lvl6/Forbiddance.yml\n",
      "success\n",
      "\n",
      "checking lvl6/Forceful_Hand.yml\n",
      "success\n",
      "\n",
      "checking lvl6/Freezing_Sphere.yml\n",
      "success\n",
      "\n",
      "checking lvl6/Geas.yml\n",
      "success\n",
      "\n",
      "checking lvl6/Globe_of_Invulnerability,_Greater.yml\n",
      "success\n",
      "\n",
      "checking lvl6/Guards_and_Wards.yml\n",
      "success\n",
      "\n",
      "checking lvl6/Heal.yml\n",
      "success\n",
      "\n",
      "checking lvl6/Heroes’_Feast.yml\n",
      "success\n",
      "\n",
      "checking lvl6/Iceberg.yml\n",
      "success\n",
      "\n",
      "checking lvl6/Legend_Lore.yml\n",
      "success\n",
      "\n",
      "checking lvl6/Liveoak.yml\n",
      "success\n",
      "\n",
      "checking lvl6/Mass_Suggestion.yml\n",
      "success\n",
      "\n",
      "checking lvl6/Mirage_Arcana.yml\n",
      "success\n",
      "\n",
      "checking lvl6/Mislead.yml\n",
      "success\n",
      "\n",
      "checking lvl6/Move_Earth.yml\n",
      "success\n",
      "\n",
      "checking lvl6/Permanent_Phantasm.yml\n",
      "success\n",
      "\n",
      "checking lvl6/Phantasmagorical_Precipitousness.yml\n",
      "success\n",
      "\n",
      "checking lvl6/Prismatic_Sphere.yml\n",
      "success\n",
      "\n",
      "checking lvl6/Programmed_Phantasm.yml\n",
      "success\n",
      "\n",
      "checking lvl6/Regeneration.yml\n",
      "success\n",
      "\n",
      "checking lvl6/Reincarnation.yml\n",
      "success\n",
      "\n",
      "checking lvl6/Repel_Wood.yml\n",
      "success\n",
      "\n",
      "checking lvl6/Repulsion.yml\n",
      "success\n",
      "\n",
      "checking lvl6/Restoration.yml\n",
      "success\n",
      "\n",
      "checking lvl6/See.yml\n",
      "success\n",
      "\n",
      "checking lvl6/Spawn_Shades.yml\n",
      "success\n",
      "\n",
      "checking lvl6/Stone_Tell.yml\n",
      "success\n",
      "\n",
      "checking lvl6/Stone_to_Flesh.yml\n",
      "success\n",
      "\n",
      "checking lvl6/Summon_Aerial_Minion.yml\n",
      "success\n",
      "\n",
      "checking lvl6/Summon_Animal_III.yml\n",
      "success\n",
      "\n",
      "checking lvl6/Summon_Fire_Elemental.yml\n",
      "success\n",
      "\n",
      "checking lvl6/Summon_Ice_Dæmon.yml\n",
      "success\n",
      "\n",
      "checking lvl6/Summon_Invisible_Stalker.yml\n",
      "success\n",
      "\n",
      "checking lvl6/Summon_Monster_IV.yml\n",
      "success\n",
      "\n",
      "checking lvl6/Transfer_Youthfulness.yml\n",
      "success\n",
      "\n",
      "checking lvl6/Transform_to_Asp.yml\n",
      "success\n",
      "\n",
      "checking lvl6/Transformation.yml\n",
      "success\n",
      "\n",
      "checking lvl6/Transmute_Rock_to_Lava.yml\n",
      "success\n",
      "\n",
      "checking lvl6/Transport_via_Plants.yml\n",
      "success\n",
      "\n",
      "checking lvl6/Veil.yml\n",
      "success\n",
      "\n",
      "checking lvl6/White_Hand_of_Death.yml\n",
      "success\n",
      "\n",
      "checking lvl6/Word_of_Recall.yml\n",
      "success\n",
      "\n"
     ]
    }
   ],
   "source": [
    "for f in files:\n",
    "    print(f\"checking {f}\")\n",
    "    spell = load_yml_spell(f)\n",
    "    spell_preload_check(spell)\n",
    "    print(\"success\")\n",
    "    print()"
   ]
  },
  {
   "cell_type": "markdown",
   "metadata": {},
   "source": [
    "Do it for real"
   ]
  },
  {
   "cell_type": "code",
   "execution_count": 17,
   "metadata": {},
   "outputs": [],
   "source": [
    "for f in files:\n",
    "    spell = load_yml_spell(f)\n",
    "    spell_preload_check(spell)\n",
    "    update_spell(spell)"
   ]
  },
  {
   "cell_type": "code",
   "execution_count": 18,
   "metadata": {},
   "outputs": [
    {
     "data": {
      "text/plain": [
       "{'id': 451,\n",
       " 'name': 'Word of Recall',\n",
       " 'pp': 246,\n",
       " 'Lvl': ['clr 6'],\n",
       " 'Rng': 0,\n",
       " 'Dur': 'instantaneous',\n",
       " 'Rev': 0,\n",
       " 'Desc': '<p>The chanting sorcerer transports to a place that they hallowed with the <i>ceremony of consecration</i> spell, with no chance of error; no distance or subterranean depth is too great. The sorcerer may bring 25 pounds of material per CA level; this excess may comprise gear, treasure, or even a living creature, so long as the weight restriction is observed.</p>'}"
      ]
     },
     "execution_count": 18,
     "metadata": {},
     "output_type": "execute_result"
    }
   ],
   "source": [
    "load_yml_spell(files[-1])"
   ]
  },
  {
   "cell_type": "code",
   "execution_count": null,
   "metadata": {},
   "outputs": [],
   "source": []
  },
  {
   "cell_type": "code",
   "execution_count": null,
   "metadata": {},
   "outputs": [],
   "source": []
  }
 ],
 "metadata": {
  "kernelspec": {
   "display_name": "Python 3.10.9 64-bit ('hyperborea3')",
   "language": "python",
   "name": "python3"
  },
  "language_info": {
   "codemirror_mode": {
    "name": "ipython",
    "version": 3
   },
   "file_extension": ".py",
   "mimetype": "text/x-python",
   "name": "python",
   "nbconvert_exporter": "python",
   "pygments_lexer": "ipython3",
   "version": "3.10.9"
  },
  "orig_nbformat": 4,
  "vscode": {
   "interpreter": {
    "hash": "6cc58666e325d25f168469cc4291b80223b2a18df9e8584044e805bcd06daa55"
   }
  }
 },
 "nbformat": 4,
 "nbformat_minor": 2
}
