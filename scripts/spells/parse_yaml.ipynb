{
 "cells": [
  {
   "cell_type": "code",
   "execution_count": 1,
   "metadata": {},
   "outputs": [],
   "source": [
    "from contextlib import contextmanager\n",
    "import sqlite3\n",
    "import yaml"
   ]
  },
  {
   "cell_type": "code",
   "execution_count": 2,
   "metadata": {},
   "outputs": [
    {
     "name": "stdout",
     "output_type": "stream",
     "text": [
      "/home/jeremy/projects/hyperborea3/scripts/spell_desc\n"
     ]
    }
   ],
   "source": [
    "! pwd"
   ]
  },
  {
   "cell_type": "code",
   "execution_count": null,
   "metadata": {},
   "outputs": [],
   "source": [
    "load_folder = \"lvl1\""
   ]
  },
  {
   "cell_type": "code",
   "execution_count": null,
   "metadata": {},
   "outputs": [],
   "source": [
    "@contextmanager\n",
    "def db_cur():\n",
    "    URI = f\"../../hyperborea3/hyperborea.sqlite3\"\n",
    "    con = sqlite3.connect(URI, check_same_thread=False)\n",
    "    con.row_factory = sqlite3.Row\n",
    "    cur = con.cursor()\n",
    "    yield cur\n",
    "    con.commit()\n",
    "    con.close()"
   ]
  },
  {
   "cell_type": "markdown",
   "metadata": {},
   "source": [
    "Test connection to db"
   ]
  },
  {
   "cell_type": "code",
   "execution_count": null,
   "metadata": {},
   "outputs": [],
   "source": [
    "with db_cur() as cur:\n",
    "    cur.execute(\"\"\"\n",
    "        SELECT *\n",
    "          FROM spells;\n",
    "    \"\"\")\n",
    "    result = [dict(x) for x in cur.fetchall()]\n",
    "result[:1]"
   ]
  },
  {
   "cell_type": "code",
   "execution_count": null,
   "metadata": {},
   "outputs": [],
   "source": [
    "files = ! ls {load_folder}/*.yml\n",
    "files"
   ]
  },
  {
   "cell_type": "code",
   "execution_count": null,
   "metadata": {},
   "outputs": [],
   "source": [
    "def load_yml_spell(file_name):\n",
    "    with open(file_name, \"r\") as f:\n",
    "        spell = yaml.safe_load(f)\n",
    "    return spell"
   ]
  },
  {
   "cell_type": "code",
   "execution_count": null,
   "metadata": {},
   "outputs": [],
   "source": [
    "def spell_preload_check(spell):\n",
    "    with db_cur() as cur:\n",
    "        cur.execute(\n",
    "            \"\"\"\n",
    "            SELECT *\n",
    "            FROM spells\n",
    "            WHERE spell_id = ?;\n",
    "            \"\"\",\n",
    "            (spell[\"id\"],),\n",
    "        )\n",
    "        db_spell = cur.fetchone()\n",
    "    assert spell[\"name\"] == db_spell[\"spell_name\"]\n",
    "    assert isinstance(spell[\"id\"], int)\n",
    "    assert isinstance(spell[\"pp\"], int)\n",
    "    assert isinstance(spell[\"Rng\"], (str, int))\n",
    "    assert isinstance(spell[\"Dur\"], str)\n",
    "    assert spell[\"Rev\"] in [0, 1]\n",
    "    assert isinstance(spell[\"Desc\"], str)\n",
    "    assert spell[\"Desc\"][:3] == \"<p>\"\n",
    "    assert spell[\"Desc\"][-4:] == \"</p>\"\n",
    "\n"
   ]
  },
  {
   "cell_type": "code",
   "execution_count": null,
   "metadata": {},
   "outputs": [],
   "source": [
    "def update_spell(spell):\n",
    "    with db_cur() as cur:\n",
    "        cur.execute(\n",
    "            \"\"\"\n",
    "            UPDATE spells\n",
    "            SET rng = ?\n",
    "                , dur = ?\n",
    "                , reversible = ?\n",
    "                , pp = ?\n",
    "                , spell_desc = ?\n",
    "            WHERE spell_id = ?;\n",
    "            \"\"\",\n",
    "            (\n",
    "                spell[\"Rng\"],\n",
    "                spell[\"Dur\"],\n",
    "                spell[\"Rev\"],\n",
    "                spell[\"pp\"],\n",
    "                spell[\"Desc\"],\n",
    "                spell[\"id\"],\n",
    "            ),\n",
    "        )\n",
    "    return "
   ]
  },
  {
   "cell_type": "markdown",
   "metadata": {},
   "source": [
    "### Test parsing all the files"
   ]
  },
  {
   "cell_type": "code",
   "execution_count": null,
   "metadata": {},
   "outputs": [],
   "source": [
    "for f in files:\n",
    "    print(f\"checking {f}\")\n",
    "    spell = load_yml_spell(f)\n",
    "    spell_preload_check(spell)\n",
    "    print(\"success\")\n",
    "    print()"
   ]
  },
  {
   "cell_type": "markdown",
   "metadata": {},
   "source": [
    "Do it for real"
   ]
  },
  {
   "cell_type": "code",
   "execution_count": null,
   "metadata": {},
   "outputs": [],
   "source": [
    "for f in files:\n",
    "    spell = load_yml_spell(f)\n",
    "    spell_preload_check(spell)\n",
    "    update_spell(spell)"
   ]
  },
  {
   "cell_type": "code",
   "execution_count": null,
   "metadata": {},
   "outputs": [],
   "source": [
    "load_yml_spell(files[68])"
   ]
  },
  {
   "cell_type": "code",
   "execution_count": null,
   "metadata": {},
   "outputs": [],
   "source": []
  },
  {
   "cell_type": "code",
   "execution_count": null,
   "metadata": {},
   "outputs": [],
   "source": []
  }
 ],
 "metadata": {
  "interpreter": {
   "hash": "b3a33ac414a6eff29b6bebb40ea1a22bfb0d461553a55173a7b37d8588e9345d"
  },
  "kernelspec": {
   "display_name": "Python 3.10.0 64-bit ('hyperborea-env')",
   "language": "python",
   "name": "python3"
  },
  "language_info": {
   "codemirror_mode": {
    "name": "ipython",
    "version": 3
   },
   "file_extension": ".py",
   "mimetype": "text/x-python",
   "name": "python",
   "nbconvert_exporter": "python",
   "pygments_lexer": "ipython3",
   "version": "3.10.0"
  },
  "orig_nbformat": 4
 },
 "nbformat": 4,
 "nbformat_minor": 2
}
